{
 "cells": [
  {
   "cell_type": "markdown",
   "id": "bb46324f-df1e-45b0-9231-5ac7b2a51038",
   "metadata": {},
   "source": [
    "# Data Science Tools and Ecosystem"
   ]
  },
  {
   "cell_type": "markdown",
   "id": "1d43f5b8-6ad1-4075-9f20-15169690daa5",
   "metadata": {},
   "source": [
    "In this notebook, Data Science Tools and Ecosystem are summarized. "
   ]
  },
  {
   "cell_type": "markdown",
   "id": "48af28dd-39ff-4b65-8c34-b49b46af21ba",
   "metadata": {},
   "source": [
    "**Objetives:**\n",
    "- Review popular languages for Data Science\n",
    "- Review commonly used libraries for Data Science\n",
    "- List some Data Science Tools\n",
    "- Evaluated arithmetic expressions in Python"
   ]
  },
  {
   "cell_type": "markdown",
   "id": "3fbc2aba-49dc-4b63-9837-b813c203d379",
   "metadata": {},
   "source": [
    "Some of the popular languages that Data Scientists use are:\n",
    "1. Python\n",
    "2. R\n",
    "3. SQL\n",
    "4. Julia\n",
    "5. Scala"
   ]
  },
  {
   "cell_type": "markdown",
   "id": "deb2ed97-ff15-4474-ac01-e31eeb907bb0",
   "metadata": {},
   "source": [
    "Some of the commonly used libraries used by Data Scientists include:\n",
    "1. NumPy\n",
    "2. Pandas\n",
    "3. Matplotlib\n",
    "4. ggplt2\n",
    "5. Tensorflow"
   ]
  },
  {
   "cell_type": "markdown",
   "id": "ffde83de-ccc5-454d-8bbc-15ae8f48126b",
   "metadata": {},
   "source": [
    "|Data Science Tools|\n",
    "|------------------|\n",
    "|Jupyter Notebook|\n",
    "|JupyterLab|\n",
    "|RStudio|"
   ]
  },
  {
   "cell_type": "markdown",
   "id": "ae51afd6-7241-456a-9e56-cec3d204608c",
   "metadata": {},
   "source": [
    "### Below are a few examples of evaluating arithmetic expressions in Python."
   ]
  },
  {
   "cell_type": "code",
   "execution_count": 20,
   "id": "a04742f1-2884-4d8a-8997-87751417c8f4",
   "metadata": {},
   "outputs": [
    {
     "data": {
      "text/plain": [
       "17"
      ]
     },
     "execution_count": 20,
     "metadata": {},
     "output_type": "execute_result"
    }
   ],
   "source": [
    "#This a simple arithmetic expression to mutiply then add integers. \n",
    "(3*4)+5"
   ]
  },
  {
   "cell_type": "code",
   "execution_count": 22,
   "id": "9ed70f1e-5188-41c4-b692-110ddb8c8812",
   "metadata": {},
   "outputs": [
    {
     "data": {
      "text/plain": [
       "3.3333333333333335"
      ]
     },
     "execution_count": 22,
     "metadata": {},
     "output_type": "execute_result"
    }
   ],
   "source": [
    "#This will convert 200 minutes to hours by diving by 60.\n",
    "200/60"
   ]
  },
  {
   "cell_type": "markdown",
   "id": "97194a3a-c7d7-4031-8fb4-2f54f6ca5d27",
   "metadata": {},
   "source": [
    "## Author\n",
    "German Sepulveda Barbosa"
   ]
  }
 ],
 "metadata": {
  "kernelspec": {
   "display_name": "Python [conda env:base] *",
   "language": "python",
   "name": "conda-base-py"
  },
  "language_info": {
   "codemirror_mode": {
    "name": "ipython",
    "version": 3
   },
   "file_extension": ".py",
   "mimetype": "text/x-python",
   "name": "python",
   "nbconvert_exporter": "python",
   "pygments_lexer": "ipython3",
   "version": "3.12.7"
  }
 },
 "nbformat": 4,
 "nbformat_minor": 5
}
